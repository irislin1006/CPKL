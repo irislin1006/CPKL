{
 "cells": [
  {
   "cell_type": "code",
   "execution_count": 16,
   "metadata": {},
   "outputs": [],
   "source": [
    "import pandas as pd\n",
    "from sklearn.metrics import f1_score, accuracy_score"
   ]
  },
  {
   "cell_type": "code",
   "execution_count": 41,
   "metadata": {},
   "outputs": [
    {
     "data": {
      "text/plain": [
       "Index(['id', 'dialog_id', 'ut-2', 'ut-1', 'ut', 'ut+1', 'ut+2', 'head',\n",
       "       'relation', 'tail', 'gold_reference', 'prediction'],\n",
       "      dtype='object')"
      ]
     },
     "execution_count": 41,
     "metadata": {},
     "output_type": "execute_result"
    }
   ],
   "source": [
    "df = pd.read_csv('dimiss_items/data/eval/task2_data_subset_DebertaNluHeadDeberta_predictions.csv')\n",
    "# df = pd.read_csv('dimiss_items/data/eval/task2_data_subset_DebertaNluRelationDeberta_predictions.csv')\n",
    "df.columns"
   ]
  },
  {
   "cell_type": "code",
   "execution_count": 42,
   "metadata": {},
   "outputs": [
    {
     "name": "stdout",
     "output_type": "stream",
     "text": [
      "Incorrect predictions: 474 (All: 2758)\n"
     ]
    }
   ],
   "source": [
    "inccorect_preds = df[df['gold_reference'] != df['prediction']]\n",
    "inccorect_preds = inccorect_preds.reset_index(drop=True)\n",
    "print(f'Incorrect predictions: {len(inccorect_preds)} (All: {len(df)})')"
   ]
  },
  {
   "cell_type": "code",
   "execution_count": 43,
   "metadata": {},
   "outputs": [],
   "source": [
    "# inccorect_preds.to_json(\n",
    "#     'dimiss_items/data/eval/task2_data_subset_DebertaNluRelationDeberta_incorrect_predictions.json',\n",
    "#     orient='records',\n",
    "#     indent=4)"
   ]
  },
  {
   "cell_type": "code",
   "execution_count": 44,
   "metadata": {},
   "outputs": [],
   "source": [
    "inccorect_preds_s100 = inccorect_preds.sample(100, random_state=0)"
   ]
  },
  {
   "cell_type": "code",
   "execution_count": 45,
   "metadata": {},
   "outputs": [],
   "source": [
    "# inccorect_preds_s100.to_json(\n",
    "#     'dimiss_items/data/eval/DebertaNluRelationDeberta_incorrect_predictions_s100.json',\n",
    "#     orient='records',\n",
    "#     indent=4)"
   ]
  },
  {
   "cell_type": "code",
   "execution_count": null,
   "metadata": {},
   "outputs": [],
   "source": []
  },
  {
   "cell_type": "code",
   "execution_count": 46,
   "metadata": {},
   "outputs": [],
   "source": [
    "# calc f1 score, accuracy\n",
    "def f1_and_acc(df):\n",
    "    f1 = f1_score(df['gold_reference'], df['prediction'], average='binary')\n",
    "    acc = accuracy_score(df['gold_reference'], df['prediction'])\n",
    "    print(f'F1: {f1}, Accuracy: {acc}')\n",
    "    return pd.Series({'F1_Score': f1, 'Accuracy': acc})"
   ]
  },
  {
   "cell_type": "code",
   "execution_count": 47,
   "metadata": {},
   "outputs": [
    {
     "name": "stdout",
     "output_type": "stream",
     "text": [
      "F1: 0.5477099236641222, Accuracy: 0.8281363306744017\n"
     ]
    },
    {
     "data": {
      "text/plain": [
       "F1_Score    0.547710\n",
       "Accuracy    0.828136\n",
       "dtype: float64"
      ]
     },
     "execution_count": 47,
     "metadata": {},
     "output_type": "execute_result"
    }
   ],
   "source": [
    "f1_and_acc(df)"
   ]
  },
  {
   "cell_type": "code",
   "execution_count": 48,
   "metadata": {},
   "outputs": [
    {
     "data": {
      "text/plain": [
       "array(['routine_habit', 'characteristic', 'goal_plan', 'experience'],\n",
       "      dtype=object)"
      ]
     },
     "execution_count": 48,
     "metadata": {},
     "output_type": "execute_result"
    }
   ],
   "source": [
    "df['relation_p'] = df['relation'].apply(lambda x: x.replace('_relationship', ''))\n",
    "df['relation_p'].unique()"
   ]
  },
  {
   "cell_type": "code",
   "execution_count": 49,
   "metadata": {},
   "outputs": [
    {
     "name": "stdout",
     "output_type": "stream",
     "text": [
      "F1: 0.5161290322580645, Accuracy: 0.8369565217391305\n",
      "F1: 0.5061728395061729, Accuracy: 0.8357289527720739\n",
      "F1: 0.46557377049180326, Accuracy: 0.7815013404825737\n",
      "F1: 0.6430379746835443, Accuracy: 0.8550873586844809\n"
     ]
    },
    {
     "name": "stderr",
     "output_type": "stream",
     "text": [
      "/tmp/ipykernel_2097222/385143568.py:1: DeprecationWarning: DataFrameGroupBy.apply operated on the grouping columns. This behavior is deprecated, and in a future version of pandas the grouping columns will be excluded from the operation. Either pass `include_groups=False` to exclude the groupings or explicitly select the grouping columns after groupby to silence this warning.\n",
      "  res_on_relation = df.groupby('relation_p').apply(f1_and_acc)\n"
     ]
    },
    {
     "data": {
      "text/html": [
       "<div>\n",
       "<style scoped>\n",
       "    .dataframe tbody tr th:only-of-type {\n",
       "        vertical-align: middle;\n",
       "    }\n",
       "\n",
       "    .dataframe tbody tr th {\n",
       "        vertical-align: top;\n",
       "    }\n",
       "\n",
       "    .dataframe thead th {\n",
       "        text-align: right;\n",
       "    }\n",
       "</style>\n",
       "<table border=\"1\" class=\"dataframe\">\n",
       "  <thead>\n",
       "    <tr style=\"text-align: right;\">\n",
       "      <th></th>\n",
       "      <th>F1_Score</th>\n",
       "      <th>Accuracy</th>\n",
       "    </tr>\n",
       "    <tr>\n",
       "      <th>relation_p</th>\n",
       "      <th></th>\n",
       "      <th></th>\n",
       "    </tr>\n",
       "  </thead>\n",
       "  <tbody>\n",
       "    <tr>\n",
       "      <th>characteristic</th>\n",
       "      <td>0.516129</td>\n",
       "      <td>0.836957</td>\n",
       "    </tr>\n",
       "    <tr>\n",
       "      <th>experience</th>\n",
       "      <td>0.506173</td>\n",
       "      <td>0.835729</td>\n",
       "    </tr>\n",
       "    <tr>\n",
       "      <th>goal_plan</th>\n",
       "      <td>0.465574</td>\n",
       "      <td>0.781501</td>\n",
       "    </tr>\n",
       "    <tr>\n",
       "      <th>routine_habit</th>\n",
       "      <td>0.643038</td>\n",
       "      <td>0.855087</td>\n",
       "    </tr>\n",
       "  </tbody>\n",
       "</table>\n",
       "</div>"
      ],
      "text/plain": [
       "                F1_Score  Accuracy\n",
       "relation_p                        \n",
       "characteristic  0.516129  0.836957\n",
       "experience      0.506173  0.835729\n",
       "goal_plan       0.465574  0.781501\n",
       "routine_habit   0.643038  0.855087"
      ]
     },
     "execution_count": 49,
     "metadata": {},
     "output_type": "execute_result"
    }
   ],
   "source": [
    "res_on_relation = df.groupby('relation_p').apply(f1_and_acc)\n",
    "res_on_relation"
   ]
  },
  {
   "cell_type": "code",
   "execution_count": 50,
   "metadata": {},
   "outputs": [
    {
     "data": {
      "text/html": [
       "<div>\n",
       "<style scoped>\n",
       "    .dataframe tbody tr th:only-of-type {\n",
       "        vertical-align: middle;\n",
       "    }\n",
       "\n",
       "    .dataframe tbody tr th {\n",
       "        vertical-align: top;\n",
       "    }\n",
       "\n",
       "    .dataframe thead th {\n",
       "        text-align: right;\n",
       "    }\n",
       "</style>\n",
       "<table border=\"1\" class=\"dataframe\">\n",
       "  <thead>\n",
       "    <tr style=\"text-align: right;\">\n",
       "      <th></th>\n",
       "      <th>F1_Score</th>\n",
       "      <th>Accuracy</th>\n",
       "    </tr>\n",
       "    <tr>\n",
       "      <th>relation_p</th>\n",
       "      <th></th>\n",
       "      <th></th>\n",
       "    </tr>\n",
       "  </thead>\n",
       "  <tbody>\n",
       "    <tr>\n",
       "      <th>characteristic</th>\n",
       "      <td>0.5161</td>\n",
       "      <td>0.8370</td>\n",
       "    </tr>\n",
       "    <tr>\n",
       "      <th>experience</th>\n",
       "      <td>0.5062</td>\n",
       "      <td>0.8357</td>\n",
       "    </tr>\n",
       "    <tr>\n",
       "      <th>goal_plan</th>\n",
       "      <td>0.4656</td>\n",
       "      <td>0.7815</td>\n",
       "    </tr>\n",
       "    <tr>\n",
       "      <th>routine_habit</th>\n",
       "      <td>0.6430</td>\n",
       "      <td>0.8551</td>\n",
       "    </tr>\n",
       "  </tbody>\n",
       "</table>\n",
       "</div>"
      ],
      "text/plain": [
       "                F1_Score  Accuracy\n",
       "relation_p                        \n",
       "characteristic    0.5161    0.8370\n",
       "experience        0.5062    0.8357\n",
       "goal_plan         0.4656    0.7815\n",
       "routine_habit     0.6430    0.8551"
      ]
     },
     "execution_count": 50,
     "metadata": {},
     "output_type": "execute_result"
    }
   ],
   "source": [
    "res_on_relation.round(4)"
   ]
  },
  {
   "cell_type": "code",
   "execution_count": 52,
   "metadata": {},
   "outputs": [
    {
     "data": {
      "text/plain": [
       "gold_reference\n",
       "False    2368\n",
       "True      390\n",
       "Name: count, dtype: int64"
      ]
     },
     "execution_count": 52,
     "metadata": {},
     "output_type": "execute_result"
    }
   ],
   "source": [
    "df['gold_reference'].value_counts()"
   ]
  },
  {
   "cell_type": "code",
   "execution_count": 53,
   "metadata": {},
   "outputs": [
    {
     "data": {
      "text/plain": [
       "0.16469594594594594"
      ]
     },
     "execution_count": 53,
     "metadata": {},
     "output_type": "execute_result"
    }
   ],
   "source": [
    "390/2368"
   ]
  },
  {
   "cell_type": "code",
   "execution_count": null,
   "metadata": {},
   "outputs": [],
   "source": []
  }
 ],
 "metadata": {
  "kernelspec": {
   "display_name": "cpkl",
   "language": "python",
   "name": "python3"
  },
  "language_info": {
   "codemirror_mode": {
    "name": "ipython",
    "version": 3
   },
   "file_extension": ".py",
   "mimetype": "text/x-python",
   "name": "python",
   "nbconvert_exporter": "python",
   "pygments_lexer": "ipython3",
   "version": "3.9.18"
  }
 },
 "nbformat": 4,
 "nbformat_minor": 2
}
