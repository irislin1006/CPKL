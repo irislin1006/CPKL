{
 "cells": [
  {
   "cell_type": "code",
   "execution_count": 16,
   "metadata": {},
   "outputs": [],
   "source": [
    "import pandas as pd\n",
    "from sklearn.metrics import f1_score, accuracy_score"
   ]
  },
  {
   "cell_type": "code",
   "execution_count": 17,
   "metadata": {},
   "outputs": [
    {
     "data": {
      "text/plain": [
       "Index(['id', 'dialog_id', 'ut-2', 'ut-1', 'ut', 'ut+1', 'ut+2', 'head',\n",
       "       'relation', 'tail', 'gold_reference', 'prediction'],\n",
       "      dtype='object')"
      ]
     },
     "execution_count": 17,
     "metadata": {},
     "output_type": "execute_result"
    }
   ],
   "source": [
    "df = pd.read_csv('dimiss_items/data/eval/task2_data_subset_DebertaNluRelationDeberta_predictions.csv')\n",
    "df.columns"
   ]
  },
  {
   "cell_type": "code",
   "execution_count": 18,
   "metadata": {},
   "outputs": [
    {
     "name": "stdout",
     "output_type": "stream",
     "text": [
      "Incorrect predictions: 328 (All: 2758)\n"
     ]
    }
   ],
   "source": [
    "inccorect_preds = df[df['gold_reference'] != df['prediction']]\n",
    "inccorect_preds = inccorect_preds.reset_index(drop=True)\n",
    "print(f'Incorrect predictions: {len(inccorect_preds)} (All: {len(df)})')"
   ]
  },
  {
   "cell_type": "code",
   "execution_count": 19,
   "metadata": {},
   "outputs": [],
   "source": [
    "# inccorect_preds.to_json(\n",
    "#     'dimiss_items/data/eval/task2_data_subset_DebertaNluRelationDeberta_incorrect_predictions.json',\n",
    "#     orient='records',\n",
    "#     indent=4)"
   ]
  },
  {
   "cell_type": "code",
   "execution_count": 20,
   "metadata": {},
   "outputs": [],
   "source": [
    "inccorect_preds_s100 = inccorect_preds.sample(100, random_state=0)"
   ]
  },
  {
   "cell_type": "code",
   "execution_count": 21,
   "metadata": {},
   "outputs": [],
   "source": [
    "# inccorect_preds_s100.to_json(\n",
    "#     'dimiss_items/data/eval/DebertaNluRelationDeberta_incorrect_predictions_s100.json',\n",
    "#     orient='records',\n",
    "#     indent=4)"
   ]
  },
  {
   "cell_type": "code",
   "execution_count": null,
   "metadata": {},
   "outputs": [],
   "source": []
  },
  {
   "cell_type": "code",
   "execution_count": 33,
   "metadata": {},
   "outputs": [],
   "source": [
    "# calc f1 score, accuracy\n",
    "def f1_and_acc(df):\n",
    "    f1 = f1_score(df['gold_reference'], df['prediction'], average='binary')\n",
    "    acc = accuracy_score(df['gold_reference'], df['prediction'])\n",
    "    print(f'F1: {f1}, Accuracy: {acc}')\n",
    "    return pd.Series({'F1_Score': f1, 'Accuracy': acc})"
   ]
  },
  {
   "cell_type": "code",
   "execution_count": 34,
   "metadata": {},
   "outputs": [
    {
     "name": "stdout",
     "output_type": "stream",
     "text": [
      "F1: 0.5729166666666665, Accuracy: 0.8810732414793329\n"
     ]
    },
    {
     "data": {
      "text/plain": [
       "F1_Score    0.572917\n",
       "Accuracy    0.881073\n",
       "dtype: float64"
      ]
     },
     "execution_count": 34,
     "metadata": {},
     "output_type": "execute_result"
    }
   ],
   "source": [
    "f1_and_acc(df)"
   ]
  },
  {
   "cell_type": "code",
   "execution_count": 31,
   "metadata": {},
   "outputs": [
    {
     "data": {
      "text/plain": [
       "array(['routine_habit', 'characteristic', 'goal_plan',\n",
       "       'routine_habit_relationship', 'experience',\n",
       "       'experience_relationship', 'goal_plan_relationship',\n",
       "       'characteristic_relationship'], dtype=object)"
      ]
     },
     "execution_count": 31,
     "metadata": {},
     "output_type": "execute_result"
    }
   ],
   "source": [
    "df['relation'].unique()"
   ]
  },
  {
   "cell_type": "code",
   "execution_count": 35,
   "metadata": {},
   "outputs": [
    {
     "name": "stdout",
     "output_type": "stream",
     "text": [
      "F1: 0.43548387096774194, Accuracy: 0.8653846153846154\n",
      "F1: 0.5714285714285715, Accuracy: 0.90625\n",
      "F1: 0.5333333333333333, Accuracy: 0.8997613365155132\n",
      "F1: 0.3636363636363636, Accuracy: 0.8970588235294118\n",
      "F1: 0.5111111111111111, Accuracy: 0.8607594936708861\n",
      "F1: 0.45161290322580644, Accuracy: 0.8508771929824561\n",
      "F1: 0.7150837988826816, Accuracy: 0.9092526690391459\n",
      "F1: 0.6575342465753425, Accuracy: 0.878345498783455\n"
     ]
    },
    {
     "name": "stderr",
     "output_type": "stream",
     "text": [
      "/tmp/ipykernel_2097222/4142880366.py:1: DeprecationWarning: DataFrameGroupBy.apply operated on the grouping columns. This behavior is deprecated, and in a future version of pandas the grouping columns will be excluded from the operation. Either pass `include_groups=False` to exclude the groupings or explicitly select the grouping columns after groupby to silence this warning.\n",
      "  res_on_relation = df.groupby('relation').apply(f1_and_acc)\n"
     ]
    },
    {
     "data": {
      "text/html": [
       "<div>\n",
       "<style scoped>\n",
       "    .dataframe tbody tr th:only-of-type {\n",
       "        vertical-align: middle;\n",
       "    }\n",
       "\n",
       "    .dataframe tbody tr th {\n",
       "        vertical-align: top;\n",
       "    }\n",
       "\n",
       "    .dataframe thead th {\n",
       "        text-align: right;\n",
       "    }\n",
       "</style>\n",
       "<table border=\"1\" class=\"dataframe\">\n",
       "  <thead>\n",
       "    <tr style=\"text-align: right;\">\n",
       "      <th></th>\n",
       "      <th>F1_Score</th>\n",
       "      <th>Accuracy</th>\n",
       "    </tr>\n",
       "    <tr>\n",
       "      <th>relation</th>\n",
       "      <th></th>\n",
       "      <th></th>\n",
       "    </tr>\n",
       "  </thead>\n",
       "  <tbody>\n",
       "    <tr>\n",
       "      <th>characteristic</th>\n",
       "      <td>0.435484</td>\n",
       "      <td>0.865385</td>\n",
       "    </tr>\n",
       "    <tr>\n",
       "      <th>characteristic_relationship</th>\n",
       "      <td>0.571429</td>\n",
       "      <td>0.906250</td>\n",
       "    </tr>\n",
       "    <tr>\n",
       "      <th>experience</th>\n",
       "      <td>0.533333</td>\n",
       "      <td>0.899761</td>\n",
       "    </tr>\n",
       "    <tr>\n",
       "      <th>experience_relationship</th>\n",
       "      <td>0.363636</td>\n",
       "      <td>0.897059</td>\n",
       "    </tr>\n",
       "    <tr>\n",
       "      <th>goal_plan</th>\n",
       "      <td>0.511111</td>\n",
       "      <td>0.860759</td>\n",
       "    </tr>\n",
       "    <tr>\n",
       "      <th>goal_plan_relationship</th>\n",
       "      <td>0.451613</td>\n",
       "      <td>0.850877</td>\n",
       "    </tr>\n",
       "    <tr>\n",
       "      <th>routine_habit</th>\n",
       "      <td>0.715084</td>\n",
       "      <td>0.909253</td>\n",
       "    </tr>\n",
       "    <tr>\n",
       "      <th>routine_habit_relationship</th>\n",
       "      <td>0.657534</td>\n",
       "      <td>0.878345</td>\n",
       "    </tr>\n",
       "  </tbody>\n",
       "</table>\n",
       "</div>"
      ],
      "text/plain": [
       "                             F1_Score  Accuracy\n",
       "relation                                       \n",
       "characteristic               0.435484  0.865385\n",
       "characteristic_relationship  0.571429  0.906250\n",
       "experience                   0.533333  0.899761\n",
       "experience_relationship      0.363636  0.897059\n",
       "goal_plan                    0.511111  0.860759\n",
       "goal_plan_relationship       0.451613  0.850877\n",
       "routine_habit                0.715084  0.909253\n",
       "routine_habit_relationship   0.657534  0.878345"
      ]
     },
     "execution_count": 35,
     "metadata": {},
     "output_type": "execute_result"
    }
   ],
   "source": [
    "res_on_relation = df.groupby('relation').apply(f1_and_acc)\n",
    "res_on_relation"
   ]
  },
  {
   "cell_type": "code",
   "execution_count": null,
   "metadata": {},
   "outputs": [],
   "source": []
  }
 ],
 "metadata": {
  "kernelspec": {
   "display_name": "cpkl",
   "language": "python",
   "name": "python3"
  },
  "language_info": {
   "codemirror_mode": {
    "name": "ipython",
    "version": 3
   },
   "file_extension": ".py",
   "mimetype": "text/x-python",
   "name": "python",
   "nbconvert_exporter": "python",
   "pygments_lexer": "ipython3",
   "version": "3.9.18"
  }
 },
 "nbformat": 4,
 "nbformat_minor": 2
}
