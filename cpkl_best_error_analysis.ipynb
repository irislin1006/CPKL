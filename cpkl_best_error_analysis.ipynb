{
 "cells": [
  {
   "cell_type": "code",
   "execution_count": 1,
   "metadata": {},
   "outputs": [],
   "source": [
    "import pandas as pd"
   ]
  },
  {
   "cell_type": "code",
   "execution_count": 4,
   "metadata": {},
   "outputs": [
    {
     "data": {
      "text/plain": [
       "Index(['id', 'dialog_id', 'ut-2', 'ut-1', 'ut', 'ut+1', 'ut+2', 'head',\n",
       "       'relation', 'tail', 'gold_reference', 'prediction'],\n",
       "      dtype='object')"
      ]
     },
     "execution_count": 4,
     "metadata": {},
     "output_type": "execute_result"
    }
   ],
   "source": [
    "df = pd.read_csv('dimiss_items/data/eval/task2_data_subset_DebertaNluRelationDeberta_predictions.csv')\n",
    "df.columns"
   ]
  },
  {
   "cell_type": "code",
   "execution_count": 9,
   "metadata": {},
   "outputs": [
    {
     "name": "stdout",
     "output_type": "stream",
     "text": [
      "Incorrect predictions: 328 (All: 2758)\n"
     ]
    }
   ],
   "source": [
    "inccorect_preds = df[df['gold_reference'] != df['prediction']]\n",
    "inccorect_preds = inccorect_preds.reset_index(drop=True)\n",
    "print(f'Incorrect predictions: {len(inccorect_preds)} (All: {len(df)})')"
   ]
  },
  {
   "cell_type": "code",
   "execution_count": 12,
   "metadata": {},
   "outputs": [],
   "source": [
    "inccorect_preds.to_json(\n",
    "    'dimiss_items/data/eval/task2_data_subset_DebertaNluRelationDeberta_incorrect_predictions.json',\n",
    "    orient='records',\n",
    "    indent=4)"
   ]
  },
  {
   "cell_type": "code",
   "execution_count": 13,
   "metadata": {},
   "outputs": [],
   "source": [
    "inccorect_preds_s100 = inccorect_preds.sample(100, random_state=0)"
   ]
  },
  {
   "cell_type": "code",
   "execution_count": 15,
   "metadata": {},
   "outputs": [],
   "source": [
    "inccorect_preds_s100.to_json(\n",
    "    'dimiss_items/data/eval/DebertaNluRelationDeberta_incorrect_predictions_s100.json',\n",
    "    orient='records',\n",
    "    indent=4)"
   ]
  },
  {
   "cell_type": "code",
   "execution_count": null,
   "metadata": {},
   "outputs": [],
   "source": []
  }
 ],
 "metadata": {
  "kernelspec": {
   "display_name": "cpkl",
   "language": "python",
   "name": "python3"
  },
  "language_info": {
   "codemirror_mode": {
    "name": "ipython",
    "version": 3
   },
   "file_extension": ".py",
   "mimetype": "text/x-python",
   "name": "python",
   "nbconvert_exporter": "python",
   "pygments_lexer": "ipython3",
   "version": "3.9.18"
  }
 },
 "nbformat": 4,
 "nbformat_minor": 2
}
